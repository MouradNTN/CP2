{
 "cells": [
  {
   "cell_type": "code",
   "execution_count": 8,
   "id": "c7dcaec5",
   "metadata": {},
   "outputs": [
    {
     "name": "stdout",
     "output_type": "stream",
     "text": [
      "your name surname please :  mourad nouiri\n",
      "your name is :  Mourad\n",
      "your surname is :   NOUIRI\n",
      "your SURNAME Name is :  NOUIRI Mourad\n"
     ]
    }
   ],
   "source": [
    "#Q1 with While loop\n",
    "#name --one word surname -- one word\n",
    "#the case when only a name is typed is not considered with this prog\n",
    "name_surname = input(\"your name surname please :  \")\n",
    "#print(name_surname)\n",
    "es=name_surname.find(' ')\n",
    "#print(es)\n",
    "i=1\n",
    "j=es+2\n",
    "name=name_surname[0]\n",
    "surname=name_surname[es+1]\n",
    "while i<es and j>es<=len(name_surname):\n",
    "    name=name+name_surname[i]\n",
    "    surname=surname+name_surname[j]\n",
    "    i=i+1\n",
    "    j=j+1\n",
    "#name=name.capitalize()\n",
    "print(\"your name is : \",name.capitalize())\n",
    "print(\"your surname is :  \",surname.upper())\n",
    "#reversed\n",
    "print(\"your SURNAME Name is : \",surname.upper()+' '+name.capitalize())"
   ]
  },
  {
   "cell_type": "code",
   "execution_count": 6,
   "id": "34f0786c",
   "metadata": {},
   "outputs": [
    {
     "name": "stdout",
     "output_type": "stream",
     "text": [
      "your first name  ? mourad\n",
      "your last name ? nouiri\n",
      "your name, as typed, is :   mourad nouiri\n",
      "your reversed name is :  NOUIRI Mourad\n"
     ]
    }
   ],
   "source": [
    "#Q1 split function\n",
    "First_name =input(\"your first name  ? \")\n",
    "Last_name=input(\"your last name ? \")\n",
    "Compl_name=First_name+' '+Last_name\n",
    "print(\"your name, as typed, is :  \",Compl_name)\n",
    "Compl_name1=Compl_name.split()\n",
    "#print(Compl_name1)\n",
    "rev_compl_name=Compl_name1[1].upper()+' '+Compl_name1[0].capitalize()\n",
    "print(\"your reversed name is : \",rev_compl_name)"
   ]
  },
  {
   "cell_type": "code",
   "execution_count": 9,
   "id": "dbb68c47",
   "metadata": {},
   "outputs": [
    {
     "name": "stdout",
     "output_type": "stream",
     "text": [
      "donner votre nom prénom : nouiri mourad\n",
      "nombre d'espace est : 1\n",
      "nombre des mots est   2\n",
      "votre nom est :  NOUIRI\n",
      "votre prénom est :   Mourad\n",
      "nouveau arrangement est : Mourad NOUIRI\n"
     ]
    }
   ],
   "source": [
    "#Q1 en utilsant simplement la chaîne de caractère tapée\n",
    "nom_prenom=input(\"donner votre nom prénom : \")\n",
    "esp=nom_prenom.count(\" \")\n",
    "print(\"nombre d'espace est :\", esp)\n",
    "print(\"nombre des mots est  \",esp+1)\n",
    "nom=nom_prenom[0:nom_prenom.find(\" \")]\n",
    "prenom=nom_prenom[nom_prenom.find(\" \")+1:len(nom_prenom)]\n",
    "print(\"votre nom est : \",nom.upper())\n",
    "print(\"votre prénom est :  \",prenom.capitalize())\n",
    "print(\"nouveau arrangement est :\",prenom.capitalize()+' '+nom.upper())"
   ]
  },
  {
   "cell_type": "code",
   "execution_count": 3,
   "id": "81073eb5",
   "metadata": {},
   "outputs": [
    {
     "name": "stdout",
     "output_type": "stream",
     "text": [
      "donner un nombre entier : 5\n",
      "le résultat est 615\n"
     ]
    }
   ],
   "source": [
    "#Question 2\n",
    "n=input(\"donner un nombre entier : \")\n",
    "#print(n)\n",
    "nn=n+n\n",
    "#print(nn)\n",
    "nnn=nn+n\n",
    "#print(nnn)\n",
    "result=int(n)+int(nn)+int(nnn)\n",
    "print('le résultat est',result)"
   ]
  },
  {
   "cell_type": "code",
   "execution_count": 4,
   "id": "2657b23e",
   "metadata": {},
   "outputs": [
    {
     "name": "stdout",
     "output_type": "stream",
     "text": [
      "donner un nombre : 5\n",
      "le nombre est impair\n",
      "merci\n"
     ]
    }
   ],
   "source": [
    "#Question 3\n",
    "n=input(\"donner un nombre : \")\n",
    "if int(n)%2==0:\n",
    "    print(\"le nombre est pair\")\n",
    "else:\n",
    "    print(\"le nombre est impair\")\n",
    "\n",
    "print(\"merci\")\n"
   ]
  },
  {
   "cell_type": "code",
   "execution_count": 1,
   "id": "57e934ee",
   "metadata": {},
   "outputs": [
    {
     "name": "stdout",
     "output_type": "stream",
     "text": [
      "2002\n",
      "2009\n",
      "2016\n",
      "2023\n",
      "2037\n",
      "2044\n",
      "2051\n",
      "2058\n",
      "2072\n",
      "2079\n",
      "2086\n",
      "2093\n",
      "2107\n",
      "2114\n",
      "2121\n",
      "2128\n",
      "2142\n",
      "2149\n",
      "2156\n",
      "2163\n",
      "2177\n",
      "2184\n",
      "2191\n",
      "2198\n",
      "2212\n",
      "2219\n",
      "2226\n",
      "2233\n",
      "2247\n",
      "2254\n",
      "2261\n",
      "2268\n",
      "2282\n",
      "2289\n",
      "2296\n",
      "2303\n",
      "2317\n",
      "2324\n",
      "2331\n",
      "2338\n",
      "2352\n",
      "2359\n",
      "2366\n",
      "2373\n",
      "2387\n",
      "2394\n",
      "2401\n",
      "2408\n",
      "2422\n",
      "2429\n",
      "2436\n",
      "2443\n",
      "2457\n",
      "2464\n",
      "2471\n",
      "2478\n",
      "2492\n",
      "2499\n",
      "2506\n",
      "2513\n",
      "2527\n",
      "2534\n",
      "2541\n",
      "2548\n",
      "2562\n",
      "2569\n",
      "2576\n",
      "2583\n",
      "2597\n",
      "2604\n",
      "2611\n",
      "2618\n",
      "2632\n",
      "2639\n",
      "2646\n",
      "2653\n",
      "2667\n",
      "2674\n",
      "2681\n",
      "2688\n",
      "2702\n",
      "2709\n",
      "2716\n",
      "2723\n",
      "2737\n",
      "2744\n",
      "2751\n",
      "2758\n",
      "2772\n",
      "2779\n",
      "2786\n",
      "2793\n",
      "2807\n",
      "2814\n",
      "2821\n",
      "2828\n",
      "2842\n",
      "2849\n",
      "2856\n",
      "2863\n",
      "2877\n",
      "2884\n",
      "2891\n",
      "2898\n",
      "2912\n",
      "2919\n",
      "2926\n",
      "2933\n",
      "2947\n",
      "2954\n",
      "2961\n",
      "2968\n",
      "2982\n",
      "2989\n",
      "2996\n",
      "3003\n",
      "3017\n",
      "3024\n",
      "3031\n",
      "3038\n",
      "3052\n",
      "3059\n",
      "3066\n",
      "3073\n",
      "3087\n",
      "3094\n",
      "3101\n",
      "3108\n",
      "3122\n",
      "3129\n",
      "3136\n",
      "3143\n",
      "3157\n",
      "3164\n",
      "3171\n",
      "3178\n",
      "3192\n",
      "3199\n",
      "terminé....mais -The numbers obtained should be printed in a sequence on a single line...not YET\n"
     ]
    }
   ],
   "source": [
    "#Question 4 ptt prbme non réssolu\n",
    "x=range(2000,3201)\n",
    "for n in x:\n",
    "    if n%7==0 and n%5!=0:\n",
    "        print(n)\n",
    "print(\"terminé....mais -The numbers obtained should be printed in a sequence on a single line...not YET\")\n"
   ]
  },
  {
   "cell_type": "code",
   "execution_count": 2,
   "id": "bf96e325",
   "metadata": {},
   "outputs": [
    {
     "name": "stdout",
     "output_type": "stream",
     "text": [
      "donner un nombre entier  : 8\n",
      "range(1, 8)\n",
      "le factoriel est  40320\n",
      "It s Done\n"
     ]
    }
   ],
   "source": [
    "#Question 5 factoriel - zéro non pris en compte\n",
    "n=input(\"donner un nombre entier  : \")\n",
    "#print(n)\n",
    "n=int(n)\n",
    "Rgn = range(1,n)\n",
    "print(Rgn)\n",
    "for x in Rgn:\n",
    "    n=n*x\n",
    "print(\"le factoriel est \",n)\n",
    "print(\"It s Done\")"
   ]
  },
  {
   "cell_type": "code",
   "execution_count": 3,
   "id": "34480be1",
   "metadata": {},
   "outputs": [
    {
     "name": "stdout",
     "output_type": "stream",
     "text": [
      "what is the initial price  ?  550\n",
      "550.0\n",
      "the discount is of about 50%, the new price is : 275.0\n",
      "Thank you for your visit\n"
     ]
    }
   ],
   "source": [
    "#Question 7 Discount\n",
    "p=input(\"what is the initial price  ?  \")\n",
    "p=float(p)\n",
    "print(p)\n",
    "if p>=500:\n",
    "    print(\"the discount is of about 50%, the new price is :\", p*0.5)\n",
    "elif p>=200:\n",
    "    print(\"the discount is of about 30%, the new price is  :\", p*0.7)\n",
    "else:\n",
    "    print(\"the discount is of about 10%, the new price is  :\", p*0.9)\n",
    "print(\"Thank you for your visit\")"
   ]
  },
  {
   "cell_type": "code",
   "execution_count": null,
   "id": "4b3d7e15",
   "metadata": {},
   "outputs": [],
   "source": []
  }
 ],
 "metadata": {
  "kernelspec": {
   "display_name": "Python 3 (ipykernel)",
   "language": "python",
   "name": "python3"
  },
  "language_info": {
   "codemirror_mode": {
    "name": "ipython",
    "version": 3
   },
   "file_extension": ".py",
   "mimetype": "text/x-python",
   "name": "python",
   "nbconvert_exporter": "python",
   "pygments_lexer": "ipython3",
   "version": "3.9.12"
  }
 },
 "nbformat": 4,
 "nbformat_minor": 5
}
